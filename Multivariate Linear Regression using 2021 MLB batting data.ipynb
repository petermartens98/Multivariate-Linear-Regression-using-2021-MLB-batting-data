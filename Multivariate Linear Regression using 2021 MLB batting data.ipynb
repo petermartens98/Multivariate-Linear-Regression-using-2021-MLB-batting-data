{
 "cells": [
  {
   "cell_type": "markdown",
   "id": "dc433154",
   "metadata": {},
   "source": [
    "# Multivariate Linear Regression using 2021 MLB batting data\n",
    "\n",
    "## Predict batting average from OBP and Hits\n",
    "\n",
    "## Import Neccesary Libraries"
   ]
  },
  {
   "cell_type": "code",
   "execution_count": 78,
   "id": "7d860e65",
   "metadata": {},
   "outputs": [],
   "source": [
    "import pandas as pd\n",
    "import numpy as np\n",
    "import matplotlib.pyplot as plt \n",
    "\n",
    "from sklearn.model_selection import train_test_split\n",
    "from sklearn.linear_model import LinearRegression\n",
    "from sklearn import preprocessing\n",
    "\n",
    "%matplotlib inline"
   ]
  },
  {
   "cell_type": "markdown",
   "id": "b42bcd72",
   "metadata": {},
   "source": [
    "## Import dataset CSV file; Set index to player; Sort based on team"
   ]
  },
  {
   "cell_type": "code",
   "execution_count": 79,
   "id": "09db698c",
   "metadata": {
    "scrolled": false
   },
   "outputs": [
    {
     "data": {
      "text/html": [
       "<div>\n",
       "<style scoped>\n",
       "    .dataframe tbody tr th:only-of-type {\n",
       "        vertical-align: middle;\n",
       "    }\n",
       "\n",
       "    .dataframe tbody tr th {\n",
       "        vertical-align: top;\n",
       "    }\n",
       "\n",
       "    .dataframe thead th {\n",
       "        text-align: right;\n",
       "    }\n",
       "</style>\n",
       "<table border=\"1\" class=\"dataframe\">\n",
       "  <thead>\n",
       "    <tr style=\"text-align: right;\">\n",
       "      <th></th>\n",
       "      <th></th>\n",
       "      <th>Pos</th>\n",
       "      <th>Age</th>\n",
       "      <th>G</th>\n",
       "      <th>AB</th>\n",
       "      <th>R</th>\n",
       "      <th>H</th>\n",
       "      <th>2B</th>\n",
       "      <th>3B</th>\n",
       "      <th>HR</th>\n",
       "      <th>RBI</th>\n",
       "      <th>...</th>\n",
       "      <th>CS</th>\n",
       "      <th>BB</th>\n",
       "      <th>SO</th>\n",
       "      <th>SH</th>\n",
       "      <th>SF</th>\n",
       "      <th>HBP</th>\n",
       "      <th>AVG</th>\n",
       "      <th>OBP</th>\n",
       "      <th>SLG</th>\n",
       "      <th>OPS</th>\n",
       "    </tr>\n",
       "    <tr>\n",
       "      <th>Team</th>\n",
       "      <th>Player</th>\n",
       "      <th></th>\n",
       "      <th></th>\n",
       "      <th></th>\n",
       "      <th></th>\n",
       "      <th></th>\n",
       "      <th></th>\n",
       "      <th></th>\n",
       "      <th></th>\n",
       "      <th></th>\n",
       "      <th></th>\n",
       "      <th></th>\n",
       "      <th></th>\n",
       "      <th></th>\n",
       "      <th></th>\n",
       "      <th></th>\n",
       "      <th></th>\n",
       "      <th></th>\n",
       "      <th></th>\n",
       "      <th></th>\n",
       "      <th></th>\n",
       "      <th></th>\n",
       "    </tr>\n",
       "  </thead>\n",
       "  <tbody>\n",
       "    <tr>\n",
       "      <th rowspan=\"5\" valign=\"top\">ARI</th>\n",
       "      <th>Andrew Young</th>\n",
       "      <td>2B</td>\n",
       "      <td>28</td>\n",
       "      <td>58</td>\n",
       "      <td>91</td>\n",
       "      <td>13</td>\n",
       "      <td>19</td>\n",
       "      <td>7</td>\n",
       "      <td>0</td>\n",
       "      <td>6</td>\n",
       "      <td>15</td>\n",
       "      <td>...</td>\n",
       "      <td>0</td>\n",
       "      <td>6</td>\n",
       "      <td>45</td>\n",
       "      <td>0</td>\n",
       "      <td>1</td>\n",
       "      <td>6</td>\n",
       "      <td>0.209</td>\n",
       "      <td>0.298</td>\n",
       "      <td>0.484</td>\n",
       "      <td>0.782</td>\n",
       "    </tr>\n",
       "    <tr>\n",
       "      <th>Asdrubal Cabrera</th>\n",
       "      <td>3B</td>\n",
       "      <td>36</td>\n",
       "      <td>90</td>\n",
       "      <td>283</td>\n",
       "      <td>34</td>\n",
       "      <td>69</td>\n",
       "      <td>21</td>\n",
       "      <td>0</td>\n",
       "      <td>7</td>\n",
       "      <td>40</td>\n",
       "      <td>...</td>\n",
       "      <td>0</td>\n",
       "      <td>33</td>\n",
       "      <td>73</td>\n",
       "      <td>0</td>\n",
       "      <td>3</td>\n",
       "      <td>2</td>\n",
       "      <td>0.244</td>\n",
       "      <td>0.324</td>\n",
       "      <td>0.392</td>\n",
       "      <td>0.716</td>\n",
       "    </tr>\n",
       "    <tr>\n",
       "      <th>Bryan Holaday</th>\n",
       "      <td>C</td>\n",
       "      <td>34</td>\n",
       "      <td>13</td>\n",
       "      <td>31</td>\n",
       "      <td>2</td>\n",
       "      <td>6</td>\n",
       "      <td>2</td>\n",
       "      <td>0</td>\n",
       "      <td>0</td>\n",
       "      <td>1</td>\n",
       "      <td>...</td>\n",
       "      <td>0</td>\n",
       "      <td>1</td>\n",
       "      <td>15</td>\n",
       "      <td>0</td>\n",
       "      <td>0</td>\n",
       "      <td>2</td>\n",
       "      <td>0.194</td>\n",
       "      <td>0.265</td>\n",
       "      <td>0.258</td>\n",
       "      <td>0.523</td>\n",
       "    </tr>\n",
       "    <tr>\n",
       "      <th>Carson Kelly</th>\n",
       "      <td>C</td>\n",
       "      <td>27</td>\n",
       "      <td>98</td>\n",
       "      <td>304</td>\n",
       "      <td>41</td>\n",
       "      <td>73</td>\n",
       "      <td>11</td>\n",
       "      <td>1</td>\n",
       "      <td>13</td>\n",
       "      <td>46</td>\n",
       "      <td>...</td>\n",
       "      <td>0</td>\n",
       "      <td>44</td>\n",
       "      <td>74</td>\n",
       "      <td>0</td>\n",
       "      <td>5</td>\n",
       "      <td>6</td>\n",
       "      <td>0.240</td>\n",
       "      <td>0.343</td>\n",
       "      <td>0.411</td>\n",
       "      <td>0.754</td>\n",
       "    </tr>\n",
       "    <tr>\n",
       "      <th>Christian Walker</th>\n",
       "      <td>1B</td>\n",
       "      <td>31</td>\n",
       "      <td>115</td>\n",
       "      <td>401</td>\n",
       "      <td>55</td>\n",
       "      <td>98</td>\n",
       "      <td>23</td>\n",
       "      <td>1</td>\n",
       "      <td>10</td>\n",
       "      <td>46</td>\n",
       "      <td>...</td>\n",
       "      <td>0</td>\n",
       "      <td>38</td>\n",
       "      <td>106</td>\n",
       "      <td>0</td>\n",
       "      <td>2</td>\n",
       "      <td>4</td>\n",
       "      <td>0.244</td>\n",
       "      <td>0.315</td>\n",
       "      <td>0.382</td>\n",
       "      <td>0.697</td>\n",
       "    </tr>\n",
       "  </tbody>\n",
       "</table>\n",
       "<p>5 rows × 21 columns</p>\n",
       "</div>"
      ],
      "text/plain": [
       "                      Pos  Age    G   AB   R   H  2B  3B  HR  RBI  ...  CS  \\\n",
       "Team Player                                                        ...       \n",
       "ARI  Andrew Young      2B   28   58   91  13  19   7   0   6   15  ...   0   \n",
       "     Asdrubal Cabrera  3B   36   90  283  34  69  21   0   7   40  ...   0   \n",
       "     Bryan Holaday      C   34   13   31   2   6   2   0   0    1  ...   0   \n",
       "     Carson Kelly       C   27   98  304  41  73  11   1  13   46  ...   0   \n",
       "     Christian Walker  1B   31  115  401  55  98  23   1  10   46  ...   0   \n",
       "\n",
       "                       BB   SO  SH  SF  HBP    AVG    OBP    SLG    OPS  \n",
       "Team Player                                                              \n",
       "ARI  Andrew Young       6   45   0   1    6  0.209  0.298  0.484  0.782  \n",
       "     Asdrubal Cabrera  33   73   0   3    2  0.244  0.324  0.392  0.716  \n",
       "     Bryan Holaday      1   15   0   0    2  0.194  0.265  0.258  0.523  \n",
       "     Carson Kelly      44   74   0   5    6  0.240  0.343  0.411  0.754  \n",
       "     Christian Walker  38  106   0   2    4  0.244  0.315  0.382  0.697  \n",
       "\n",
       "[5 rows x 21 columns]"
      ]
     },
     "execution_count": 79,
     "metadata": {},
     "output_type": "execute_result"
    }
   ],
   "source": [
    "df = pd.read_csv('2021MLBbattingStats.csv')\n",
    "df = df.set_index(['Team','Player'])\n",
    "df = df.sort_index()\n",
    "df.head()"
   ]
  },
  {
   "cell_type": "code",
   "execution_count": 80,
   "id": "8ef22aa6",
   "metadata": {},
   "outputs": [
    {
     "data": {
      "text/plain": [
       "['Pos',\n",
       " 'Age',\n",
       " 'G',\n",
       " 'AB',\n",
       " 'R',\n",
       " 'H',\n",
       " '2B',\n",
       " '3B',\n",
       " 'HR',\n",
       " 'RBI',\n",
       " 'SB',\n",
       " 'CS',\n",
       " 'BB',\n",
       " 'SO',\n",
       " 'SH',\n",
       " 'SF',\n",
       " 'HBP',\n",
       " 'AVG',\n",
       " 'OBP',\n",
       " 'SLG',\n",
       " 'OPS']"
      ]
     },
     "execution_count": 80,
     "metadata": {},
     "output_type": "execute_result"
    }
   ],
   "source": [
    "list(df.columns)"
   ]
  },
  {
   "cell_type": "markdown",
   "id": "e707cb46",
   "metadata": {},
   "source": [
    "## Define x and y"
   ]
  },
  {
   "cell_type": "code",
   "execution_count": 81,
   "id": "e8cae68f",
   "metadata": {},
   "outputs": [],
   "source": [
    "# x ~ independent variables ~ On base % and hits\n",
    "x = df[['OBP', 'H']].values\n",
    "\n",
    "# y ~ dependent variable\n",
    "y = df['AVG'].values"
   ]
  },
  {
   "cell_type": "markdown",
   "id": "c44bef7a",
   "metadata": {},
   "source": [
    "## Split dataset into training set and test set"
   ]
  },
  {
   "cell_type": "code",
   "execution_count": 97,
   "id": "42ff310b",
   "metadata": {},
   "outputs": [],
   "source": [
    "x_train, x_test, y_train, y_test = train_test_split(x, y, test_size=0.33, random_state=0)"
   ]
  },
  {
   "cell_type": "code",
   "execution_count": 98,
   "id": "891d3c2f",
   "metadata": {},
   "outputs": [],
   "source": [
    "x_train = preprocessing.scale(x_train)\n",
    "x_test = preprocessing.scale(x_test)"
   ]
  },
  {
   "cell_type": "markdown",
   "id": "57940c5f",
   "metadata": {},
   "source": [
    "## Train model on the training set"
   ]
  },
  {
   "cell_type": "code",
   "execution_count": 99,
   "id": "26259a60",
   "metadata": {},
   "outputs": [
    {
     "data": {
      "text/plain": [
       "LinearRegression()"
      ]
     },
     "execution_count": 99,
     "metadata": {},
     "output_type": "execute_result"
    }
   ],
   "source": [
    "model=LinearRegression()\n",
    "model.fit(x_train, y_train)"
   ]
  },
  {
   "cell_type": "markdown",
   "id": "618ed3d7",
   "metadata": {},
   "source": [
    "## Predict test set results"
   ]
  },
  {
   "cell_type": "code",
   "execution_count": 100,
   "id": "d9f977e9",
   "metadata": {},
   "outputs": [],
   "source": [
    "y_pred=model.predict(x_test)"
   ]
  },
  {
   "cell_type": "markdown",
   "id": "1ba4c031",
   "metadata": {},
   "source": [
    "## Evaluate model "
   ]
  },
  {
   "cell_type": "code",
   "execution_count": 101,
   "id": "36ec204c",
   "metadata": {},
   "outputs": [
    {
     "data": {
      "text/plain": [
       "0.7328159594222949"
      ]
     },
     "execution_count": 101,
     "metadata": {},
     "output_type": "execute_result"
    }
   ],
   "source": [
    "from sklearn.metrics import r2_score\n",
    "r2_score(y_test,y_pred)"
   ]
  },
  {
   "cell_type": "markdown",
   "id": "7151271e",
   "metadata": {},
   "source": [
    "## Plot results"
   ]
  },
  {
   "cell_type": "code",
   "execution_count": 76,
   "id": "1d23a9c0",
   "metadata": {},
   "outputs": [
    {
     "data": {
      "text/plain": [
       "[<matplotlib.lines.Line2D at 0x1e9bd43b4f0>]"
      ]
     },
     "execution_count": 76,
     "metadata": {},
     "output_type": "execute_result"
    },
    {
     "data": {
      "image/png": "[encoded data removed]",
      "text/plain": [
       "<Figure size 1080x720 with 1 Axes>"
      ]
     },
     "metadata": {
      "needs_background": "light"
     },
     "output_type": "display_data"
    }
   ],
   "source": [
    "plt.figure(figsize=(15,10))\n",
    "plt.scatter(y_test,y_pred, color = \"blue\", marker = \"+\")\n",
    "plt.xlabel('Actual AVG')\n",
    "plt.ylabel('Prediction AVG')\n",
    "plt.title('Actual AVG vs Prediction AVG')\n",
    "\n",
    "z = np.polyfit (y_test,y_pred,1)\n",
    "p = np.poly1d(z)\n",
    "plt.plot(y_test,p(y_test), color = \"red\")\n"
   ]
  },
  {
   "cell_type": "markdown",
   "id": "2147d992",
   "metadata": {},
   "source": [
    "## Actual values vs Predicted values"
   ]
  },
  {
   "cell_type": "code",
   "execution_count": 77,
   "id": "3dff4feb",
   "metadata": {},
   "outputs": [
    {
     "data": {
      "text/html": [
       "<div>\n",
       "<style scoped>\n",
       "    .dataframe tbody tr th:only-of-type {\n",
       "        vertical-align: middle;\n",
       "    }\n",
       "\n",
       "    .dataframe tbody tr th {\n",
       "        vertical-align: top;\n",
       "    }\n",
       "\n",
       "    .dataframe thead th {\n",
       "        text-align: right;\n",
       "    }\n",
       "</style>\n",
       "<table border=\"1\" class=\"dataframe\">\n",
       "  <thead>\n",
       "    <tr style=\"text-align: right;\">\n",
       "      <th></th>\n",
       "      <th>Actual Value</th>\n",
       "      <th>Predicted Value</th>\n",
       "      <th>Difference</th>\n",
       "    </tr>\n",
       "  </thead>\n",
       "  <tbody>\n",
       "    <tr>\n",
       "      <th>0</th>\n",
       "      <td>0.000</td>\n",
       "      <td>0.119966</td>\n",
       "      <td>-0.119966</td>\n",
       "    </tr>\n",
       "    <tr>\n",
       "      <th>1</th>\n",
       "      <td>0.285</td>\n",
       "      <td>0.260125</td>\n",
       "      <td>0.024875</td>\n",
       "    </tr>\n",
       "    <tr>\n",
       "      <th>2</th>\n",
       "      <td>0.220</td>\n",
       "      <td>0.223209</td>\n",
       "      <td>-0.003209</td>\n",
       "    </tr>\n",
       "    <tr>\n",
       "      <th>3</th>\n",
       "      <td>0.303</td>\n",
       "      <td>0.297664</td>\n",
       "      <td>0.005336</td>\n",
       "    </tr>\n",
       "    <tr>\n",
       "      <th>4</th>\n",
       "      <td>0.247</td>\n",
       "      <td>0.233044</td>\n",
       "      <td>0.013956</td>\n",
       "    </tr>\n",
       "    <tr>\n",
       "      <th>5</th>\n",
       "      <td>0.254</td>\n",
       "      <td>0.268603</td>\n",
       "      <td>-0.014603</td>\n",
       "    </tr>\n",
       "    <tr>\n",
       "      <th>6</th>\n",
       "      <td>0.357</td>\n",
       "      <td>0.232952</td>\n",
       "      <td>0.124048</td>\n",
       "    </tr>\n",
       "    <tr>\n",
       "      <th>7</th>\n",
       "      <td>0.261</td>\n",
       "      <td>0.270505</td>\n",
       "      <td>-0.009505</td>\n",
       "    </tr>\n",
       "    <tr>\n",
       "      <th>8</th>\n",
       "      <td>0.150</td>\n",
       "      <td>0.145431</td>\n",
       "      <td>0.004569</td>\n",
       "    </tr>\n",
       "    <tr>\n",
       "      <th>9</th>\n",
       "      <td>0.119</td>\n",
       "      <td>0.179914</td>\n",
       "      <td>-0.060914</td>\n",
       "    </tr>\n",
       "    <tr>\n",
       "      <th>10</th>\n",
       "      <td>0.249</td>\n",
       "      <td>0.229309</td>\n",
       "      <td>0.019691</td>\n",
       "    </tr>\n",
       "    <tr>\n",
       "      <th>11</th>\n",
       "      <td>0.265</td>\n",
       "      <td>0.257848</td>\n",
       "      <td>0.007152</td>\n",
       "    </tr>\n",
       "    <tr>\n",
       "      <th>12</th>\n",
       "      <td>0.256</td>\n",
       "      <td>0.248516</td>\n",
       "      <td>0.007484</td>\n",
       "    </tr>\n",
       "    <tr>\n",
       "      <th>13</th>\n",
       "      <td>0.282</td>\n",
       "      <td>0.265536</td>\n",
       "      <td>0.016464</td>\n",
       "    </tr>\n",
       "    <tr>\n",
       "      <th>14</th>\n",
       "      <td>0.273</td>\n",
       "      <td>0.261132</td>\n",
       "      <td>0.011868</td>\n",
       "    </tr>\n",
       "    <tr>\n",
       "      <th>15</th>\n",
       "      <td>0.173</td>\n",
       "      <td>0.223537</td>\n",
       "      <td>-0.050537</td>\n",
       "    </tr>\n",
       "    <tr>\n",
       "      <th>16</th>\n",
       "      <td>0.267</td>\n",
       "      <td>0.247601</td>\n",
       "      <td>0.019399</td>\n",
       "    </tr>\n",
       "    <tr>\n",
       "      <th>17</th>\n",
       "      <td>0.217</td>\n",
       "      <td>0.220005</td>\n",
       "      <td>-0.003005</td>\n",
       "    </tr>\n",
       "    <tr>\n",
       "      <th>18</th>\n",
       "      <td>0.189</td>\n",
       "      <td>0.209592</td>\n",
       "      <td>-0.020592</td>\n",
       "    </tr>\n",
       "    <tr>\n",
       "      <th>19</th>\n",
       "      <td>0.262</td>\n",
       "      <td>0.228789</td>\n",
       "      <td>0.033211</td>\n",
       "    </tr>\n",
       "    <tr>\n",
       "      <th>20</th>\n",
       "      <td>0.224</td>\n",
       "      <td>0.243235</td>\n",
       "      <td>-0.019235</td>\n",
       "    </tr>\n",
       "    <tr>\n",
       "      <th>21</th>\n",
       "      <td>0.000</td>\n",
       "      <td>0.045608</td>\n",
       "      <td>-0.045608</td>\n",
       "    </tr>\n",
       "    <tr>\n",
       "      <th>22</th>\n",
       "      <td>0.242</td>\n",
       "      <td>0.246847</td>\n",
       "      <td>-0.004847</td>\n",
       "    </tr>\n",
       "    <tr>\n",
       "      <th>23</th>\n",
       "      <td>0.227</td>\n",
       "      <td>0.237860</td>\n",
       "      <td>-0.010860</td>\n",
       "    </tr>\n",
       "    <tr>\n",
       "      <th>24</th>\n",
       "      <td>0.256</td>\n",
       "      <td>0.225603</td>\n",
       "      <td>0.030397</td>\n",
       "    </tr>\n",
       "  </tbody>\n",
       "</table>\n",
       "</div>"
      ],
      "text/plain": [
       "    Actual Value  Predicted Value  Difference\n",
       "0          0.000         0.119966   -0.119966\n",
       "1          0.285         0.260125    0.024875\n",
       "2          0.220         0.223209   -0.003209\n",
       "3          0.303         0.297664    0.005336\n",
       "4          0.247         0.233044    0.013956\n",
       "5          0.254         0.268603   -0.014603\n",
       "6          0.357         0.232952    0.124048\n",
       "7          0.261         0.270505   -0.009505\n",
       "8          0.150         0.145431    0.004569\n",
       "9          0.119         0.179914   -0.060914\n",
       "10         0.249         0.229309    0.019691\n",
       "11         0.265         0.257848    0.007152\n",
       "12         0.256         0.248516    0.007484\n",
       "13         0.282         0.265536    0.016464\n",
       "14         0.273         0.261132    0.011868\n",
       "15         0.173         0.223537   -0.050537\n",
       "16         0.267         0.247601    0.019399\n",
       "17         0.217         0.220005   -0.003005\n",
       "18         0.189         0.209592   -0.020592\n",
       "19         0.262         0.228789    0.033211\n",
       "20         0.224         0.243235   -0.019235\n",
       "21         0.000         0.045608   -0.045608\n",
       "22         0.242         0.246847   -0.004847\n",
       "23         0.227         0.237860   -0.010860\n",
       "24         0.256         0.225603    0.030397"
      ]
     },
     "execution_count": 77,
     "metadata": {},
     "output_type": "execute_result"
    }
   ],
   "source": [
    "pred_y_df = pd.DataFrame({'Actual Value':y_test, 'Predicted Value':y_pred, 'Difference':y_test-y_pred})\n",
    "pred_y_df[0:25]"
   ]
  }
 ],
 "metadata": {
  "kernelspec": {
   "display_name": "Python 3 (ipykernel)",
   "language": "python",
   "name": "python3"
  },
  "language_info": {
   "codemirror_mode": {
    "name": "ipython",
    "version": 3
   },
   "file_extension": ".py",
   "mimetype": "text/x-python",
   "name": "python",
   "nbconvert_exporter": "python",
   "pygments_lexer": "ipython3",
   "version": "3.9.12"
  }
 },
 "nbformat": 4,
 "nbformat_minor": 5
}
