{
 "cells": [
  {
   "cell_type": "markdown",
   "id": "dc433154",
   "metadata": {},
   "source": [
    "# Multivariate Linear Regression using 2021 MLB batting data\n",
    "\n",
    "## Import Neccesary Libraries"
   ]
  },
  {
   "cell_type": "code",
   "execution_count": 27,
   "id": "7d860e65",
   "metadata": {},
   "outputs": [],
   "source": [
    "import pandas as pd\n",
    "import numpy as np\n",
    "import matplotlib.pyplot as plt \n",
    "\n",
    "from sklearn.model_selection import train_test_split\n",
    "from sklearn.linear_model import LinearRegression"
   ]
  },
  {
   "cell_type": "markdown",
   "id": "b42bcd72",
   "metadata": {},
   "source": [
    "## Import dataset CSV file"
   ]
  },
  {
   "cell_type": "code",
   "execution_count": 36,
   "id": "09db698c",
   "metadata": {
    "scrolled": false
   },
   "outputs": [
    {
     "data": {
      "text/html": [
       "<div>\n",
       "<style scoped>\n",
       "    .dataframe tbody tr th:only-of-type {\n",
       "        vertical-align: middle;\n",
       "    }\n",
       "\n",
       "    .dataframe tbody tr th {\n",
       "        vertical-align: top;\n",
       "    }\n",
       "\n",
       "    .dataframe thead th {\n",
       "        text-align: right;\n",
       "    }\n",
       "</style>\n",
       "<table border=\"1\" class=\"dataframe\">\n",
       "  <thead>\n",
       "    <tr style=\"text-align: right;\">\n",
       "      <th></th>\n",
       "      <th>Player</th>\n",
       "      <th>Team</th>\n",
       "      <th>Pos</th>\n",
       "      <th>Age</th>\n",
       "      <th>G</th>\n",
       "      <th>AB</th>\n",
       "      <th>R</th>\n",
       "      <th>H</th>\n",
       "      <th>2B</th>\n",
       "      <th>3B</th>\n",
       "      <th>...</th>\n",
       "      <th>CS</th>\n",
       "      <th>BB</th>\n",
       "      <th>SO</th>\n",
       "      <th>SH</th>\n",
       "      <th>SF</th>\n",
       "      <th>HBP</th>\n",
       "      <th>AVG</th>\n",
       "      <th>OBP</th>\n",
       "      <th>SLG</th>\n",
       "      <th>OPS</th>\n",
       "    </tr>\n",
       "  </thead>\n",
       "  <tbody>\n",
       "    <tr>\n",
       "      <th>0</th>\n",
       "      <td>Whit Merrifield</td>\n",
       "      <td>KC</td>\n",
       "      <td>2B</td>\n",
       "      <td>33</td>\n",
       "      <td>162</td>\n",
       "      <td>664</td>\n",
       "      <td>97</td>\n",
       "      <td>184</td>\n",
       "      <td>42</td>\n",
       "      <td>3</td>\n",
       "      <td>...</td>\n",
       "      <td>4</td>\n",
       "      <td>40</td>\n",
       "      <td>103</td>\n",
       "      <td>0</td>\n",
       "      <td>12</td>\n",
       "      <td>4</td>\n",
       "      <td>0.277</td>\n",
       "      <td>0.317</td>\n",
       "      <td>0.395</td>\n",
       "      <td>0.712</td>\n",
       "    </tr>\n",
       "    <tr>\n",
       "      <th>1</th>\n",
       "      <td>Marcus Semien</td>\n",
       "      <td>TOR</td>\n",
       "      <td>2B</td>\n",
       "      <td>31</td>\n",
       "      <td>162</td>\n",
       "      <td>652</td>\n",
       "      <td>115</td>\n",
       "      <td>173</td>\n",
       "      <td>39</td>\n",
       "      <td>2</td>\n",
       "      <td>...</td>\n",
       "      <td>1</td>\n",
       "      <td>66</td>\n",
       "      <td>146</td>\n",
       "      <td>0</td>\n",
       "      <td>3</td>\n",
       "      <td>3</td>\n",
       "      <td>0.265</td>\n",
       "      <td>0.334</td>\n",
       "      <td>0.538</td>\n",
       "      <td>0.872</td>\n",
       "    </tr>\n",
       "    <tr>\n",
       "      <th>2</th>\n",
       "      <td>Tommy Edman</td>\n",
       "      <td>STL</td>\n",
       "      <td>2B</td>\n",
       "      <td>27</td>\n",
       "      <td>159</td>\n",
       "      <td>641</td>\n",
       "      <td>91</td>\n",
       "      <td>168</td>\n",
       "      <td>41</td>\n",
       "      <td>3</td>\n",
       "      <td>...</td>\n",
       "      <td>5</td>\n",
       "      <td>38</td>\n",
       "      <td>95</td>\n",
       "      <td>2</td>\n",
       "      <td>4</td>\n",
       "      <td>6</td>\n",
       "      <td>0.262</td>\n",
       "      <td>0.308</td>\n",
       "      <td>0.387</td>\n",
       "      <td>0.695</td>\n",
       "    </tr>\n",
       "    <tr>\n",
       "      <th>3</th>\n",
       "      <td>Bo Bichette</td>\n",
       "      <td>TOR</td>\n",
       "      <td>SS</td>\n",
       "      <td>24</td>\n",
       "      <td>159</td>\n",
       "      <td>640</td>\n",
       "      <td>121</td>\n",
       "      <td>191</td>\n",
       "      <td>30</td>\n",
       "      <td>1</td>\n",
       "      <td>...</td>\n",
       "      <td>1</td>\n",
       "      <td>40</td>\n",
       "      <td>137</td>\n",
       "      <td>0</td>\n",
       "      <td>4</td>\n",
       "      <td>6</td>\n",
       "      <td>0.298</td>\n",
       "      <td>0.343</td>\n",
       "      <td>0.484</td>\n",
       "      <td>0.827</td>\n",
       "    </tr>\n",
       "    <tr>\n",
       "      <th>4</th>\n",
       "      <td>Isiah Kiner-Falefa</td>\n",
       "      <td>TEX</td>\n",
       "      <td>SS</td>\n",
       "      <td>27</td>\n",
       "      <td>158</td>\n",
       "      <td>635</td>\n",
       "      <td>74</td>\n",
       "      <td>172</td>\n",
       "      <td>25</td>\n",
       "      <td>3</td>\n",
       "      <td>...</td>\n",
       "      <td>5</td>\n",
       "      <td>28</td>\n",
       "      <td>90</td>\n",
       "      <td>1</td>\n",
       "      <td>2</td>\n",
       "      <td>11</td>\n",
       "      <td>0.271</td>\n",
       "      <td>0.312</td>\n",
       "      <td>0.357</td>\n",
       "      <td>0.669</td>\n",
       "    </tr>\n",
       "  </tbody>\n",
       "</table>\n",
       "<p>5 rows × 23 columns</p>\n",
       "</div>"
      ],
      "text/plain": [
       "               Player Team Pos  Age    G   AB    R    H  2B  3B  ...  CS  BB  \\\n",
       "0     Whit Merrifield   KC  2B   33  162  664   97  184  42   3  ...   4  40   \n",
       "1       Marcus Semien  TOR  2B   31  162  652  115  173  39   2  ...   1  66   \n",
       "2         Tommy Edman  STL  2B   27  159  641   91  168  41   3  ...   5  38   \n",
       "3         Bo Bichette  TOR  SS   24  159  640  121  191  30   1  ...   1  40   \n",
       "4  Isiah Kiner-Falefa  TEX  SS   27  158  635   74  172  25   3  ...   5  28   \n",
       "\n",
       "    SO  SH  SF  HBP    AVG    OBP    SLG    OPS  \n",
       "0  103   0  12    4  0.277  0.317  0.395  0.712  \n",
       "1  146   0   3    3  0.265  0.334  0.538  0.872  \n",
       "2   95   2   4    6  0.262  0.308  0.387  0.695  \n",
       "3  137   0   4    6  0.298  0.343  0.484  0.827  \n",
       "4   90   1   2   11  0.271  0.312  0.357  0.669  \n",
       "\n",
       "[5 rows x 23 columns]"
      ]
     },
     "execution_count": 36,
     "metadata": {},
     "output_type": "execute_result"
    }
   ],
   "source": [
    "df = pd.read_csv('2021MLBbattingStats.csv')\n",
    "df.head()"
   ]
  },
  {
   "cell_type": "markdown",
   "id": "e707cb46",
   "metadata": {},
   "source": [
    "## Define x and y"
   ]
  },
  {
   "cell_type": "code",
   "execution_count": 29,
   "id": "e8cae68f",
   "metadata": {},
   "outputs": [],
   "source": [
    "x = df.drop(['AVG','Player','Team','Pos'], axis=1).values\n",
    "y = df['AVG'].values"
   ]
  },
  {
   "cell_type": "markdown",
   "id": "c44bef7a",
   "metadata": {},
   "source": [
    "## Split dataset into training set and test set"
   ]
  },
  {
   "cell_type": "code",
   "execution_count": null,
   "id": "42ff310b",
   "metadata": {},
   "outputs": [],
   "source": [
    "x_train, x_test, y_train, y_test = train_test_split(x, y, test_size=0.3, random_state=0)"
   ]
  },
  {
   "cell_type": "markdown",
   "id": "57940c5f",
   "metadata": {},
   "source": [
    "## Train model on the training set"
   ]
  },
  {
   "cell_type": "code",
   "execution_count": 30,
   "id": "26259a60",
   "metadata": {},
   "outputs": [
    {
     "data": {
      "text/plain": [
       "LinearRegression()"
      ]
     },
     "execution_count": 30,
     "metadata": {},
     "output_type": "execute_result"
    }
   ],
   "source": [
    "model=LinearRegression()\n",
    "model.fit(x_train, y_train)"
   ]
  },
  {
   "cell_type": "markdown",
   "id": "618ed3d7",
   "metadata": {},
   "source": [
    "## Predict test set results"
   ]
  },
  {
   "cell_type": "code",
   "execution_count": 31,
   "id": "d9f977e9",
   "metadata": {},
   "outputs": [],
   "source": [
    "y_pred=model.predict(x_test)"
   ]
  },
  {
   "cell_type": "markdown",
   "id": "1ba4c031",
   "metadata": {},
   "source": [
    "## Evaluate model "
   ]
  },
  {
   "cell_type": "code",
   "execution_count": 32,
   "id": "36ec204c",
   "metadata": {},
   "outputs": [
    {
     "data": {
      "text/plain": [
       "0.8964735849408206"
      ]
     },
     "execution_count": 32,
     "metadata": {},
     "output_type": "execute_result"
    }
   ],
   "source": [
    "from sklearn.metrics import r2_score\n",
    "r2_score(y_test,y_pred)"
   ]
  },
  {
   "cell_type": "markdown",
   "id": "7151271e",
   "metadata": {},
   "source": [
    "## Plot results"
   ]
  },
  {
   "cell_type": "code",
   "execution_count": 35,
   "id": "1d23a9c0",
   "metadata": {},
   "outputs": [
    {
     "data": {
      "text/plain": [
       "Text(0.5, 1.0, 'Actual AVG vs Prediction AVG')"
      ]
     },
     "execution_count": 35,
     "metadata": {},
     "output_type": "execute_result"
    },
    {
     "data": {
      "image/png": "[encoded data removed]",
      "text/plain": [
       "<Figure size 1080x720 with 1 Axes>"
      ]
     },
     "metadata": {
      "needs_background": "light"
     },
     "output_type": "display_data"
    }
   ],
   "source": [
    "plt.figure(figsize=(15,10))\n",
    "plt.scatter(y_test,y_pred)\n",
    "plt.xlabel('Actual AVG')\n",
    "plt.ylabel('Prediction AVG')\n",
    "plt.title('Actual AVG vs Prediction AVG')"
   ]
  },
  {
   "cell_type": "markdown",
   "id": "2147d992",
   "metadata": {},
   "source": [
    "## Actual values vs Predicted values"
   ]
  },
  {
   "cell_type": "code",
   "execution_count": 34,
   "id": "3dff4feb",
   "metadata": {},
   "outputs": [
    {
     "data": {
      "text/html": [
       "<div>\n",
       "<style scoped>\n",
       "    .dataframe tbody tr th:only-of-type {\n",
       "        vertical-align: middle;\n",
       "    }\n",
       "\n",
       "    .dataframe tbody tr th {\n",
       "        vertical-align: top;\n",
       "    }\n",
       "\n",
       "    .dataframe thead th {\n",
       "        text-align: right;\n",
       "    }\n",
       "</style>\n",
       "<table border=\"1\" class=\"dataframe\">\n",
       "  <thead>\n",
       "    <tr style=\"text-align: right;\">\n",
       "      <th></th>\n",
       "      <th>Actual Value</th>\n",
       "      <th>Predicted Value</th>\n",
       "      <th>Difference</th>\n",
       "    </tr>\n",
       "  </thead>\n",
       "  <tbody>\n",
       "    <tr>\n",
       "      <th>0</th>\n",
       "      <td>0.292</td>\n",
       "      <td>0.295383</td>\n",
       "      <td>-0.003383</td>\n",
       "    </tr>\n",
       "    <tr>\n",
       "      <th>1</th>\n",
       "      <td>0.208</td>\n",
       "      <td>0.206821</td>\n",
       "      <td>0.001179</td>\n",
       "    </tr>\n",
       "    <tr>\n",
       "      <th>2</th>\n",
       "      <td>0.291</td>\n",
       "      <td>0.292258</td>\n",
       "      <td>-0.001258</td>\n",
       "    </tr>\n",
       "    <tr>\n",
       "      <th>3</th>\n",
       "      <td>0.262</td>\n",
       "      <td>0.244572</td>\n",
       "      <td>0.017428</td>\n",
       "    </tr>\n",
       "    <tr>\n",
       "      <th>4</th>\n",
       "      <td>0.215</td>\n",
       "      <td>0.220776</td>\n",
       "      <td>-0.005776</td>\n",
       "    </tr>\n",
       "    <tr>\n",
       "      <th>5</th>\n",
       "      <td>0.220</td>\n",
       "      <td>0.222986</td>\n",
       "      <td>-0.002986</td>\n",
       "    </tr>\n",
       "    <tr>\n",
       "      <th>6</th>\n",
       "      <td>0.205</td>\n",
       "      <td>0.204932</td>\n",
       "      <td>0.000068</td>\n",
       "    </tr>\n",
       "    <tr>\n",
       "      <th>7</th>\n",
       "      <td>0.333</td>\n",
       "      <td>0.273514</td>\n",
       "      <td>0.059486</td>\n",
       "    </tr>\n",
       "    <tr>\n",
       "      <th>8</th>\n",
       "      <td>0.151</td>\n",
       "      <td>0.143722</td>\n",
       "      <td>0.007278</td>\n",
       "    </tr>\n",
       "    <tr>\n",
       "      <th>9</th>\n",
       "      <td>0.261</td>\n",
       "      <td>0.247357</td>\n",
       "      <td>0.013643</td>\n",
       "    </tr>\n",
       "    <tr>\n",
       "      <th>10</th>\n",
       "      <td>0.287</td>\n",
       "      <td>0.282746</td>\n",
       "      <td>0.004254</td>\n",
       "    </tr>\n",
       "    <tr>\n",
       "      <th>11</th>\n",
       "      <td>0.189</td>\n",
       "      <td>0.216937</td>\n",
       "      <td>-0.027937</td>\n",
       "    </tr>\n",
       "    <tr>\n",
       "      <th>12</th>\n",
       "      <td>0.274</td>\n",
       "      <td>0.277998</td>\n",
       "      <td>-0.003998</td>\n",
       "    </tr>\n",
       "    <tr>\n",
       "      <th>13</th>\n",
       "      <td>0.204</td>\n",
       "      <td>0.198927</td>\n",
       "      <td>0.005073</td>\n",
       "    </tr>\n",
       "    <tr>\n",
       "      <th>14</th>\n",
       "      <td>0.279</td>\n",
       "      <td>0.277221</td>\n",
       "      <td>0.001779</td>\n",
       "    </tr>\n",
       "    <tr>\n",
       "      <th>15</th>\n",
       "      <td>0.197</td>\n",
       "      <td>0.193307</td>\n",
       "      <td>0.003693</td>\n",
       "    </tr>\n",
       "    <tr>\n",
       "      <th>16</th>\n",
       "      <td>0.120</td>\n",
       "      <td>0.133157</td>\n",
       "      <td>-0.013157</td>\n",
       "    </tr>\n",
       "    <tr>\n",
       "      <th>17</th>\n",
       "      <td>0.111</td>\n",
       "      <td>0.114552</td>\n",
       "      <td>-0.003552</td>\n",
       "    </tr>\n",
       "    <tr>\n",
       "      <th>18</th>\n",
       "      <td>0.220</td>\n",
       "      <td>0.208753</td>\n",
       "      <td>0.011247</td>\n",
       "    </tr>\n",
       "    <tr>\n",
       "      <th>19</th>\n",
       "      <td>0.243</td>\n",
       "      <td>0.253249</td>\n",
       "      <td>-0.010249</td>\n",
       "    </tr>\n",
       "    <tr>\n",
       "      <th>20</th>\n",
       "      <td>0.300</td>\n",
       "      <td>0.275403</td>\n",
       "      <td>0.024597</td>\n",
       "    </tr>\n",
       "    <tr>\n",
       "      <th>21</th>\n",
       "      <td>0.286</td>\n",
       "      <td>0.275547</td>\n",
       "      <td>0.010453</td>\n",
       "    </tr>\n",
       "    <tr>\n",
       "      <th>22</th>\n",
       "      <td>0.000</td>\n",
       "      <td>0.049482</td>\n",
       "      <td>-0.049482</td>\n",
       "    </tr>\n",
       "    <tr>\n",
       "      <th>23</th>\n",
       "      <td>0.232</td>\n",
       "      <td>0.238306</td>\n",
       "      <td>-0.006306</td>\n",
       "    </tr>\n",
       "    <tr>\n",
       "      <th>24</th>\n",
       "      <td>0.204</td>\n",
       "      <td>0.192802</td>\n",
       "      <td>0.011198</td>\n",
       "    </tr>\n",
       "  </tbody>\n",
       "</table>\n",
       "</div>"
      ],
      "text/plain": [
       "    Actual Value  Predicted Value  Difference\n",
       "0          0.292         0.295383   -0.003383\n",
       "1          0.208         0.206821    0.001179\n",
       "2          0.291         0.292258   -0.001258\n",
       "3          0.262         0.244572    0.017428\n",
       "4          0.215         0.220776   -0.005776\n",
       "5          0.220         0.222986   -0.002986\n",
       "6          0.205         0.204932    0.000068\n",
       "7          0.333         0.273514    0.059486\n",
       "8          0.151         0.143722    0.007278\n",
       "9          0.261         0.247357    0.013643\n",
       "10         0.287         0.282746    0.004254\n",
       "11         0.189         0.216937   -0.027937\n",
       "12         0.274         0.277998   -0.003998\n",
       "13         0.204         0.198927    0.005073\n",
       "14         0.279         0.277221    0.001779\n",
       "15         0.197         0.193307    0.003693\n",
       "16         0.120         0.133157   -0.013157\n",
       "17         0.111         0.114552   -0.003552\n",
       "18         0.220         0.208753    0.011247\n",
       "19         0.243         0.253249   -0.010249\n",
       "20         0.300         0.275403    0.024597\n",
       "21         0.286         0.275547    0.010453\n",
       "22         0.000         0.049482   -0.049482\n",
       "23         0.232         0.238306   -0.006306\n",
       "24         0.204         0.192802    0.011198"
      ]
     },
     "execution_count": 34,
     "metadata": {},
     "output_type": "execute_result"
    }
   ],
   "source": [
    "pred_y_df = pd.DataFrame({'Actual Value':y_test, 'Predicted Value':y_pred, 'Difference':y_test-y_pred})\n",
    "pred_y_df[0:25]"
   ]
  },
  {
   "cell_type": "code",
   "execution_count": null,
   "id": "72366766",
   "metadata": {},
   "outputs": [],
   "source": []
  }
 ],
 "metadata": {
  "kernelspec": {
   "display_name": "Python 3 (ipykernel)",
   "language": "python",
   "name": "python3"
  },
  "language_info": {
   "codemirror_mode": {
    "name": "ipython",
    "version": 3
   },
   "file_extension": ".py",
   "mimetype": "text/x-python",
   "name": "python",
   "nbconvert_exporter": "python",
   "pygments_lexer": "ipython3",
   "version": "3.9.12"
  }
 },
 "nbformat": 4,
 "nbformat_minor": 5
}
